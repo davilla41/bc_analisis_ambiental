{
  "nbformat": 4,
  "nbformat_minor": 0,
  "metadata": {
    "colab": {
      "provenance": [],
      "authorship_tag": "ABX9TyOfsm7cj32GALNDOqX13iJu",
      "include_colab_link": true
    },
    "kernelspec": {
      "name": "python3",
      "display_name": "Python 3"
    },
    "language_info": {
      "name": "python"
    }
  },
  "cells": [
    {
      "cell_type": "markdown",
      "metadata": {
        "id": "view-in-github",
        "colab_type": "text"
      },
      "source": [
        "<a href=\"https://colab.research.google.com/github/davilla41/bc_analisis_ambiental/blob/main/libro_analilsis_ambiental.ipynb\" target=\"_parent\"><img src=\"https://colab.research.google.com/assets/colab-badge.svg\" alt=\"Open In Colab\"/></a>"
      ]
    },
    {
      "cell_type": "markdown",
      "source": [
        "# Presentación"
      ],
      "metadata": {
        "id": "pAxFbMcRuIYO"
      }
    },
    {
      "cell_type": "markdown",
      "source": [
        "Lorem ipsum dolor sea"
      ],
      "metadata": {
        "id": "osxG0rfnunhK"
      }
    },
    {
      "cell_type": "markdown",
      "source": [
        "# Justificación"
      ],
      "metadata": {
        "id": "n2HNZ1EruIJD"
      }
    },
    {
      "cell_type": "code",
      "execution_count": null,
      "metadata": {
        "id": "LHFOhpu8uCTE"
      },
      "outputs": [],
      "source": [
        "#"
      ]
    },
    {
      "cell_type": "markdown",
      "source": [
        "# Ingestión de Datos"
      ],
      "metadata": {
        "id": "VhLJ8op1uT_j"
      }
    },
    {
      "cell_type": "code",
      "source": [],
      "metadata": {
        "id": "EtGDn5mCumfi"
      },
      "execution_count": null,
      "outputs": []
    },
    {
      "cell_type": "markdown",
      "source": [
        "# Prepación y Limpieza"
      ],
      "metadata": {
        "id": "AfFxwTpxuWcq"
      }
    },
    {
      "cell_type": "code",
      "source": [],
      "metadata": {
        "id": "WPxZutQZukWy"
      },
      "execution_count": null,
      "outputs": []
    },
    {
      "cell_type": "markdown",
      "source": [
        "# Analítica descriptiva"
      ],
      "metadata": {
        "id": "aMlkX0DPuOVS"
      }
    },
    {
      "cell_type": "code",
      "source": [],
      "metadata": {
        "id": "48tiDq0_uTNA"
      },
      "execution_count": null,
      "outputs": []
    },
    {
      "cell_type": "markdown",
      "source": [
        "# Análisis de Negocio"
      ],
      "metadata": {
        "id": "80E1dH_vudla"
      }
    },
    {
      "cell_type": "code",
      "source": [],
      "metadata": {
        "id": "fBHd5J-RulK6"
      },
      "execution_count": null,
      "outputs": []
    }
  ]
}